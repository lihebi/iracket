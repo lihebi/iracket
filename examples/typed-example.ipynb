{
 "cells": [
  {
   "cell_type": "code",
   "execution_count": 1,
   "metadata": {},
   "outputs": [],
   "source": [
    "#lang iracket/lang #:require typed/racket"
   ]
  },
  {
   "cell_type": "code",
   "execution_count": 2,
   "metadata": {},
   "outputs": [],
   "source": [
    "(: f (-> Real Real))\n",
    "(define (f x) (+ 2 (* x 3)))"
   ]
  },
  {
   "cell_type": "code",
   "execution_count": 3,
   "metadata": {},
   "outputs": [
    {
     "name": "stdout",
     "output_type": "stream",
     "text": [
      "- : Real\n"
     ]
    },
    {
     "data": {
      "text/html": [
       "<code>14</code>"
      ],
      "text/plain": [
       "14"
      ]
     },
     "execution_count": 3,
     "metadata": {},
     "output_type": "execute_result"
    }
   ],
   "source": [
    "(f 4)"
   ]
  },
  {
   "cell_type": "code",
   "execution_count": 4,
   "metadata": {},
   "outputs": [
    {
     "name": "stderr",
     "output_type": "stream",
     "text": [
      "eval:1:3: Type Checker: type mismatch\n",
      "  expected: Real\n",
      "  given: String\n",
      "  in: \"hello\"\n",
      "  location...:\n",
      "   eval:1:3\n",
      "  context...:\n",
      "   do-raise-syntax-error\n",
      "   /home/ryan/.local/racket-7.7/share/pkgs/typed-racket-lib/typed-racket/typecheck/check-below.rkt:122:5: perform-check!\n",
      "   /home/ryan/.local/racket-7.7/share/pkgs/typed-racket-lib/typed-racket/typecheck/tc-expr-unit.rkt:366:0: single-value\n",
      "   /home/ryan/.local/racket-7.7/share/pkgs/typed-racket-lib/typed-racket/typecheck/tc-app/tc-app-main.rkt:110:12: for-loop\n",
      "   parse-loop528\n",
      "   fail-handler920\n",
      "   fail-handler131\n",
      "   /home/ryan/.local/racket-7.7/share/pkgs/typed-racket-lib/typed-racket/typecheck/tc-expr-unit.rkt:86:0: tc-expr/check\n",
      "   /home/ryan/.local/racket-7.7/share/pkgs/typed-racket-lib/typed-racket/typecheck/tc-toplevel.rkt:610:0: tc-toplevel-form\n",
      "   fail-handler46\n",
      "   apply-transformer-in-context\n",
      "   apply-transformer\n",
      "   dispatch-transformer\n",
      "   expand-capturing-lifts\n",
      "   loop\n",
      "   /home/ryan/.local/racket-7.7/share/pkgs/sandbox-lib/racket/sandbox.rkt:510:0: call-with-custodian-shutdown\n",
      "   ...\n"
     ]
    }
   ],
   "source": [
    "(f \"hello\")"
   ]
  }
 ],
 "metadata": {
  "kernelspec": {
   "display_name": "Racket",
   "language": "racket",
   "name": "racket"
  },
  "language_info": {
   "codemirror_mode": "scheme",
   "file_extension": ".rkt",
   "mimetype": "text/x-racket",
   "name": "Racket",
   "pygments_lexer": "racket",
   "version": "7.7"
  }
 },
 "nbformat": 4,
 "nbformat_minor": 4
}
